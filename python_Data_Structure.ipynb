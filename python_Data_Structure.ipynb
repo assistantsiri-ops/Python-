{
  "nbformat": 4,
  "nbformat_minor": 0,
  "metadata": {
    "colab": {
      "provenance": []
    },
    "kernelspec": {
      "name": "python3",
      "display_name": "Python 3"
    },
    "language_info": {
      "name": "python"
    }
  },
  "cells": [
    {
      "cell_type": "markdown",
      "source": [
        "Python - Data Structure"
      ],
      "metadata": {
        "id": "K1ix3ZDEtk3o"
      }
    },
    {
      "cell_type": "markdown",
      "source": [
        "Data Types and Structrs Questions"
      ],
      "metadata": {
        "id": "VB5-ubx-waG1"
      }
    },
    {
      "cell_type": "markdown",
      "source": [
        "1. What are data structures and why are they important ?\n",
        "    - Data structures are a way of organizing and storing data so that they can be accessed and worked with efficiently. They define the relationship between the data, and the operations that can be performed on the data."
      ],
      "metadata": {
        "id": "2t3DOsxRtsfu"
      }
    },
    {
      "cell_type": "code",
      "source": [
        "# What are data structures and why are they important ?\n",
        "\"\"\"\n",
        "Data structures are a way of organizing and storing data so that they can be accessed and worked with efficiently. They define the relationship between the data, and the operations that can be performed on the data.\n",
        "\"\"\""
      ],
      "metadata": {
        "colab": {
          "base_uri": "https://localhost:8080/",
          "height": 53
        },
        "id": "rs_ni6Jrvcpx",
        "outputId": "fd36cebf-4d4d-435e-f2d6-f379979738c2"
      },
      "execution_count": 3,
      "outputs": [
        {
          "output_type": "execute_result",
          "data": {
            "text/plain": [
              "'\\nData structures are a way of organizing and storing data so that they can be accessed and worked with efficiently. They define the relationship between the data, and the operations that can be performed on the data.\\n'"
            ],
            "application/vnd.google.colaboratory.intrinsic+json": {
              "type": "string"
            }
          },
          "metadata": {},
          "execution_count": 3
        }
      ]
    },
    {
      "cell_type": "markdown",
      "source": [
        "2. Explain the difference between mutable and immutable data type with examples.\n",
        "   - Mutable data types can be changed after creation, whereas immutable data types can't be changed after creation."
      ],
      "metadata": {
        "id": "ou6UfotRwJEF"
      }
    },
    {
      "cell_type": "code",
      "source": [
        "# Explain the difference between mutable and immutable data type with examples.\n",
        "\"\"\"\n",
        "Mutable data types can be changed after creation, whereas immutable data types can't be changed after creation.\n",
        "\"\"\""
      ],
      "metadata": {
        "id": "vy3h7E5_xGRr"
      },
      "execution_count": null,
      "outputs": []
    }
  ]
}